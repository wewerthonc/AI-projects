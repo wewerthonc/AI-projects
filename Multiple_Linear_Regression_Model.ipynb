{
  "nbformat": 4,
  "nbformat_minor": 0,
  "metadata": {
    "colab": {
      "name": "Multiple_Linear_Regression_Model.ipynb",
      "provenance": [],
      "authorship_tag": "ABX9TyMTqGmBIjwExk7bTnfsdekH",
      "include_colab_link": true
    },
    "kernelspec": {
      "name": "python3",
      "display_name": "Python 3"
    },
    "language_info": {
      "name": "python"
    }
  },
  "cells": [
    {
      "cell_type": "markdown",
      "metadata": {
        "id": "view-in-github",
        "colab_type": "text"
      },
      "source": [
        "<a href=\"https://colab.research.google.com/github/wewerthonc/AI-projects/blob/main/Multiple_Linear_Regression_Model.ipynb\" target=\"_parent\"><img src=\"https://colab.research.google.com/assets/colab-badge.svg\" alt=\"Open In Colab\"/></a>"
      ]
    },
    {
      "cell_type": "code",
      "execution_count": 1,
      "metadata": {
        "id": "BW8KDAuAyKgX"
      },
      "outputs": [],
      "source": [
        "import math, random, tqdm\n",
        "from typing import List"
      ]
    },
    {
      "cell_type": "code",
      "source": [
        "class MultipleLinearRegression:\n",
        "  def __init__(self, num_variables = 2) -> None:\n",
        "    random.seed(0)\n",
        "    self.beta: List[float] = [random.random() for _ in range(num_variables)];\n",
        "  \n",
        "  def _error(self, x: List[float], y: float) -> float:\n",
        "    \"\"\"Error function\"\"\"\n",
        "    return self.predict(x) - y\n",
        "\n",
        "  def _loss(self, x: List[float], y: float) -> float:\n",
        "    \"\"\"Squared Error Fuction\"\"\"\n",
        "    return self._error(x, y) ** 2\n",
        "  \n",
        "  def _sqerror_gradient(self, x: List[float], y: float) -> List[float]:\n",
        "\n",
        "    # Calculate the loss\n",
        "    err = self._error(x, y)\n",
        "\n",
        "    #Partial derivatives of loss with respect to beta_i\n",
        "    return [2 * err * x_i for x_i in x]\n",
        "  \n",
        "  def _gradient_step(self, v: List[float], gradient: List[float], step_size: float) -> List[float]:\n",
        "\n",
        "    #Multiplies all the elements of the vector by step_size\n",
        "    step = [step_size * v_i for v_i in gradient]\n",
        "\n",
        "    #Sums corresponding elements of v and step\n",
        "    new_guess = [v_i + s_i for v_i, s_i in zip(v, step)]\n",
        "\n",
        "    return new_guess\n",
        "  \n",
        "  def _vector_sum(self, xs: List[List[float]]):\n",
        "\n",
        "    return [sum(vector[i] for vector in xs)\n",
        "            for i in range(len(xs[0]))]\n",
        "  \n",
        "  def _vector_mean(self, xs: List[List[float]]):\n",
        "\n",
        "    num_elements = len(xs)\n",
        "\n",
        "    return [ x_i / num_elements for x_i in self._vector_sum(xs)]\n",
        "\n",
        "  def train(self, xs: List[List[float]], ys: List[float],\n",
        "            num_epochs: int = 1000, learning_rate = 0.0001, batch_size: int = 1) -> None:\n",
        "    \"\"\"\n",
        "    Find the beta that minimizes the sum of squared errors\n",
        "    assuming the model y = sum(x_i * beta_i).\n",
        "    \"\"\"\n",
        "    \n",
        "    with tqdm.trange(num_epochs) as t:\n",
        "      for _ in t:\n",
        "\n",
        "        for start in range(0, len(xs), batch_size):\n",
        "          batch_xs = xs[start: start + batch_size]\n",
        "\n",
        "          batch_ys = ys[start: start + batch_size]\n",
        "\n",
        "          gradient = self._vector_mean([self._sqerror_gradient(x, y)\n",
        "                      for x, y in zip(batch_xs, batch_ys)])\n",
        "          \n",
        "          guess = self._gradient_step(self.beta, gradient, -learning_rate)\n",
        "\n",
        "          self.beta = guess\n",
        "\n",
        "  def predict(self, x: List[float]) -> float:\n",
        "    return sum(beta_i * x_i for beta_i, x_i in zip(self.beta, x))"
      ],
      "metadata": {
        "id": "IvxEjaE72wxH"
      },
      "execution_count": 103,
      "outputs": []
    },
    {
      "cell_type": "code",
      "source": [
        "model = MultipleLinearRegression(4)\n"
      ],
      "metadata": {
        "id": "issgOQIm5o4O"
      },
      "execution_count": 104,
      "outputs": []
    }
  ]
}