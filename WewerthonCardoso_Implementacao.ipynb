{
  "cells": [
    {
      "cell_type": "markdown",
      "metadata": {
        "id": "view-in-github",
        "colab_type": "text"
      },
      "source": [
        "<a href=\"https://colab.research.google.com/github/wewerthonc/AI-projects/blob/main/WewerthonCardoso_Implementacao.ipynb\" target=\"_parent\"><img src=\"https://colab.research.google.com/assets/colab-badge.svg\" alt=\"Open In Colab\"/></a>"
      ]
    },
    {
      "cell_type": "code",
      "execution_count": null,
      "metadata": {
        "id": "W8XmW7rzOq8Z"
      },
      "outputs": [],
      "source": [
        "import numpy as np\n",
        "import pandas as pd\n",
        "import matplotlib.pyplot as plt\n",
        "\n",
        "import tensorflow as tf\n",
        "import random\n",
        "import tensorflow_hub as hub\n",
        "from sklearn.model_selection import train_test_split\n",
        "from tensorflow.keras.layers import TextVectorization\n",
        "from tensorflow.keras.layers import Embedding\n",
        "from collections import Counter, defaultdict\n",
        "from typing import List, Dict, Tuple"
      ]
    },
    {
      "cell_type": "code",
      "execution_count": null,
      "metadata": {
        "id": "Hu7aP88nPFBS"
      },
      "outputs": [],
      "source": [
        "train_val_df = pd.read_csv('drive/MyDrive/Datasets/nlp_getting_started/train.csv', usecols=['text', 'target'])\n",
        "test_df = pd.read_csv('drive/MyDrive/Datasets/nlp_getting_started/test.csv', usecols=['text'])\n",
        "sub_df = pd.read_csv('drive/MyDrive/Datasets/nlp_getting_started/sample_submission.csv')\n"
      ]
    },
    {
      "cell_type": "code",
      "execution_count": null,
      "metadata": {
        "colab": {
          "base_uri": "https://localhost:8080/",
          "height": 424
        },
        "id": "sq0W64cGdbj8",
        "outputId": "fd386e06-d6a9-45d4-f07b-4128c17358de"
      },
      "outputs": [
        {
          "output_type": "execute_result",
          "data": {
            "text/plain": [
              "                                                   text  target\n",
              "0     Our Deeds are the Reason of this #earthquake M...       1\n",
              "1                Forest fire near La Ronge Sask. Canada       1\n",
              "2     All residents asked to 'shelter in place' are ...       1\n",
              "3     13,000 people receive #wildfires evacuation or...       1\n",
              "4     Just got sent this photo from Ruby #Alaska as ...       1\n",
              "...                                                 ...     ...\n",
              "7608  Two giant cranes holding a bridge collapse int...       1\n",
              "7609  @aria_ahrary @TheTawniest The out of control w...       1\n",
              "7610  M1.94 [01:04 UTC]?5km S of Volcano Hawaii. htt...       1\n",
              "7611  Police investigating after an e-bike collided ...       1\n",
              "7612  The Latest: More Homes Razed by Northern Calif...       1\n",
              "\n",
              "[7613 rows x 2 columns]"
            ],
            "text/html": [
              "\n",
              "  <div id=\"df-c616830d-8c47-4026-9695-5669a5e0c060\">\n",
              "    <div class=\"colab-df-container\">\n",
              "      <div>\n",
              "<style scoped>\n",
              "    .dataframe tbody tr th:only-of-type {\n",
              "        vertical-align: middle;\n",
              "    }\n",
              "\n",
              "    .dataframe tbody tr th {\n",
              "        vertical-align: top;\n",
              "    }\n",
              "\n",
              "    .dataframe thead th {\n",
              "        text-align: right;\n",
              "    }\n",
              "</style>\n",
              "<table border=\"1\" class=\"dataframe\">\n",
              "  <thead>\n",
              "    <tr style=\"text-align: right;\">\n",
              "      <th></th>\n",
              "      <th>text</th>\n",
              "      <th>target</th>\n",
              "    </tr>\n",
              "  </thead>\n",
              "  <tbody>\n",
              "    <tr>\n",
              "      <th>0</th>\n",
              "      <td>Our Deeds are the Reason of this #earthquake M...</td>\n",
              "      <td>1</td>\n",
              "    </tr>\n",
              "    <tr>\n",
              "      <th>1</th>\n",
              "      <td>Forest fire near La Ronge Sask. Canada</td>\n",
              "      <td>1</td>\n",
              "    </tr>\n",
              "    <tr>\n",
              "      <th>2</th>\n",
              "      <td>All residents asked to 'shelter in place' are ...</td>\n",
              "      <td>1</td>\n",
              "    </tr>\n",
              "    <tr>\n",
              "      <th>3</th>\n",
              "      <td>13,000 people receive #wildfires evacuation or...</td>\n",
              "      <td>1</td>\n",
              "    </tr>\n",
              "    <tr>\n",
              "      <th>4</th>\n",
              "      <td>Just got sent this photo from Ruby #Alaska as ...</td>\n",
              "      <td>1</td>\n",
              "    </tr>\n",
              "    <tr>\n",
              "      <th>...</th>\n",
              "      <td>...</td>\n",
              "      <td>...</td>\n",
              "    </tr>\n",
              "    <tr>\n",
              "      <th>7608</th>\n",
              "      <td>Two giant cranes holding a bridge collapse int...</td>\n",
              "      <td>1</td>\n",
              "    </tr>\n",
              "    <tr>\n",
              "      <th>7609</th>\n",
              "      <td>@aria_ahrary @TheTawniest The out of control w...</td>\n",
              "      <td>1</td>\n",
              "    </tr>\n",
              "    <tr>\n",
              "      <th>7610</th>\n",
              "      <td>M1.94 [01:04 UTC]?5km S of Volcano Hawaii. htt...</td>\n",
              "      <td>1</td>\n",
              "    </tr>\n",
              "    <tr>\n",
              "      <th>7611</th>\n",
              "      <td>Police investigating after an e-bike collided ...</td>\n",
              "      <td>1</td>\n",
              "    </tr>\n",
              "    <tr>\n",
              "      <th>7612</th>\n",
              "      <td>The Latest: More Homes Razed by Northern Calif...</td>\n",
              "      <td>1</td>\n",
              "    </tr>\n",
              "  </tbody>\n",
              "</table>\n",
              "<p>7613 rows × 2 columns</p>\n",
              "</div>\n",
              "      <button class=\"colab-df-convert\" onclick=\"convertToInteractive('df-c616830d-8c47-4026-9695-5669a5e0c060')\"\n",
              "              title=\"Convert this dataframe to an interactive table.\"\n",
              "              style=\"display:none;\">\n",
              "        \n",
              "  <svg xmlns=\"http://www.w3.org/2000/svg\" height=\"24px\"viewBox=\"0 0 24 24\"\n",
              "       width=\"24px\">\n",
              "    <path d=\"M0 0h24v24H0V0z\" fill=\"none\"/>\n",
              "    <path d=\"M18.56 5.44l.94 2.06.94-2.06 2.06-.94-2.06-.94-.94-2.06-.94 2.06-2.06.94zm-11 1L8.5 8.5l.94-2.06 2.06-.94-2.06-.94L8.5 2.5l-.94 2.06-2.06.94zm10 10l.94 2.06.94-2.06 2.06-.94-2.06-.94-.94-2.06-.94 2.06-2.06.94z\"/><path d=\"M17.41 7.96l-1.37-1.37c-.4-.4-.92-.59-1.43-.59-.52 0-1.04.2-1.43.59L10.3 9.45l-7.72 7.72c-.78.78-.78 2.05 0 2.83L4 21.41c.39.39.9.59 1.41.59.51 0 1.02-.2 1.41-.59l7.78-7.78 2.81-2.81c.8-.78.8-2.07 0-2.86zM5.41 20L4 18.59l7.72-7.72 1.47 1.35L5.41 20z\"/>\n",
              "  </svg>\n",
              "      </button>\n",
              "      \n",
              "  <style>\n",
              "    .colab-df-container {\n",
              "      display:flex;\n",
              "      flex-wrap:wrap;\n",
              "      gap: 12px;\n",
              "    }\n",
              "\n",
              "    .colab-df-convert {\n",
              "      background-color: #E8F0FE;\n",
              "      border: none;\n",
              "      border-radius: 50%;\n",
              "      cursor: pointer;\n",
              "      display: none;\n",
              "      fill: #1967D2;\n",
              "      height: 32px;\n",
              "      padding: 0 0 0 0;\n",
              "      width: 32px;\n",
              "    }\n",
              "\n",
              "    .colab-df-convert:hover {\n",
              "      background-color: #E2EBFA;\n",
              "      box-shadow: 0px 1px 2px rgba(60, 64, 67, 0.3), 0px 1px 3px 1px rgba(60, 64, 67, 0.15);\n",
              "      fill: #174EA6;\n",
              "    }\n",
              "\n",
              "    [theme=dark] .colab-df-convert {\n",
              "      background-color: #3B4455;\n",
              "      fill: #D2E3FC;\n",
              "    }\n",
              "\n",
              "    [theme=dark] .colab-df-convert:hover {\n",
              "      background-color: #434B5C;\n",
              "      box-shadow: 0px 1px 3px 1px rgba(0, 0, 0, 0.15);\n",
              "      filter: drop-shadow(0px 1px 2px rgba(0, 0, 0, 0.3));\n",
              "      fill: #FFFFFF;\n",
              "    }\n",
              "  </style>\n",
              "\n",
              "      <script>\n",
              "        const buttonEl =\n",
              "          document.querySelector('#df-c616830d-8c47-4026-9695-5669a5e0c060 button.colab-df-convert');\n",
              "        buttonEl.style.display =\n",
              "          google.colab.kernel.accessAllowed ? 'block' : 'none';\n",
              "\n",
              "        async function convertToInteractive(key) {\n",
              "          const element = document.querySelector('#df-c616830d-8c47-4026-9695-5669a5e0c060');\n",
              "          const dataTable =\n",
              "            await google.colab.kernel.invokeFunction('convertToInteractive',\n",
              "                                                     [key], {});\n",
              "          if (!dataTable) return;\n",
              "\n",
              "          const docLinkHtml = 'Like what you see? Visit the ' +\n",
              "            '<a target=\"_blank\" href=https://colab.research.google.com/notebooks/data_table.ipynb>data table notebook</a>'\n",
              "            + ' to learn more about interactive tables.';\n",
              "          element.innerHTML = '';\n",
              "          dataTable['output_type'] = 'display_data';\n",
              "          await google.colab.output.renderOutput(dataTable, element);\n",
              "          const docLink = document.createElement('div');\n",
              "          docLink.innerHTML = docLinkHtml;\n",
              "          element.appendChild(docLink);\n",
              "        }\n",
              "      </script>\n",
              "    </div>\n",
              "  </div>\n",
              "  "
            ]
          },
          "metadata": {},
          "execution_count": 3
        }
      ],
      "source": [
        "train_val_df"
      ]
    },
    {
      "cell_type": "code",
      "source": [
        "train_val_df.info()"
      ],
      "metadata": {
        "id": "kHYghUyes77J",
        "outputId": "5afda70c-f5a9-4be2-9e99-9d59be27e5f9",
        "colab": {
          "base_uri": "https://localhost:8080/"
        }
      },
      "execution_count": null,
      "outputs": [
        {
          "output_type": "stream",
          "name": "stdout",
          "text": [
            "<class 'pandas.core.frame.DataFrame'>\n",
            "RangeIndex: 7613 entries, 0 to 7612\n",
            "Data columns (total 2 columns):\n",
            " #   Column  Non-Null Count  Dtype \n",
            "---  ------  --------------  ----- \n",
            " 0   text    7613 non-null   object\n",
            " 1   target  7613 non-null   int64 \n",
            "dtypes: int64(1), object(1)\n",
            "memory usage: 119.1+ KB\n"
          ]
        }
      ]
    },
    {
      "cell_type": "code",
      "execution_count": null,
      "metadata": {
        "colab": {
          "base_uri": "https://localhost:8080/",
          "height": 265
        },
        "id": "dv-u2gPFeBr-",
        "outputId": "3a840261-96cb-494c-eb87-cdcaf2be5e7a"
      },
      "outputs": [
        {
          "output_type": "display_data",
          "data": {
            "text/plain": [
              "<Figure size 432x288 with 1 Axes>"
            ],
            "image/png": "[encoded data removed]"
          },
          "metadata": {
            "needs_background": "light"
          }
        }
      ],
      "source": [
        "x = ['not disaster', 'disaster']\n",
        "y = [len(train_val_df[train_val_df.target == 0]), len(train_val_df[train_val_df.target == 1])]\n",
        "barlist = plt.bar(x, y)\n",
        "barlist[0].set_color('red')\n",
        "barlist[1].set_color('green')\n",
        "plt.show()"
      ]
    },
    {
      "cell_type": "code",
      "execution_count": null,
      "metadata": {
        "colab": {
          "base_uri": "https://localhost:8080/",
          "height": 545
        },
        "id": "3Qhs9u6NhKQ3",
        "outputId": "7417f2ad-c6e3-4f77-ea44-626d6298743b"
      },
      "outputs": [
        {
          "output_type": "display_data",
          "data": {
            "text/plain": [
              "<Figure size 432x288 with 1 Axes>"
            ],
            "image/png": "[encoded data removed]"
          },
          "metadata": {
            "needs_background": "light"
          }
        },
        {
          "output_type": "display_data",
          "data": {
            "text/plain": [
              "<Figure size 432x288 with 1 Axes>"
            ],
            "image/png": "[encoded data removed]"
          },
          "metadata": {
            "needs_background": "light"
          }
        }
      ],
      "source": [
        "#Number of characters in each tweet\n",
        "number_characters_not_disaster = [len(x_i) for x_i in train_val_df[train_val_df.target == 0].text]\n",
        "plt.hist(number_characters_not_disaster, color = 'red')\n",
        "plt.title('Not Disaster Tweets')\n",
        "plt.show()\n",
        "\n",
        "number_characters_disaster = [len(x_i) for x_i in train_val_df[train_val_df.target == 1].text]\n",
        "plt.hist(number_characters_disaster, color = 'green')\n",
        "plt.title('Disaster Tweets')\n",
        "plt.show()"
      ]
    },
    {
      "cell_type": "code",
      "execution_count": null,
      "metadata": {
        "colab": {
          "base_uri": "https://localhost:8080/",
          "height": 545
        },
        "id": "RFEMmgCFjmbw",
        "outputId": "93a26ec7-fb3d-41b3-8d9a-ac5f6e01ff4b"
      },
      "outputs": [
        {
          "output_type": "display_data",
          "data": {
            "text/plain": [
              "<Figure size 432x288 with 1 Axes>"
            ],
            "image/png": "[encoded data removed]"
          },
          "metadata": {
            "needs_background": "light"
          }
        },
        {
          "output_type": "display_data",
          "data": {
            "text/plain": [
              "<Figure size 432x288 with 1 Axes>"
            ],
            "image/png": "[encoded data removed]"
          },
          "metadata": {
            "needs_background": "light"
          }
        }
      ],
      "source": [
        "#Number of words in each tweet\n",
        "number_words_not_disaster = [len(x_i.split()) for x_i in train_val_df[train_val_df.target == 0].text]\n",
        "plt.hist(number_words_not_disaster, color = 'red')\n",
        "plt.title('Not Disaster Tweets')\n",
        "plt.show()\n",
        "\n",
        "number_words_disaster = [len(x_i.split()) for x_i in train_val_df[train_val_df.target == 1].text]\n",
        "plt.hist(number_words_disaster , color = 'green')\n",
        "plt.title('Disaster Tweets')\n",
        "plt.show()"
      ]
    },
    {
      "cell_type": "code",
      "execution_count": null,
      "metadata": {
        "colab": {
          "base_uri": "https://localhost:8080/",
          "height": 534
        },
        "id": "Qnutme-LmIq5",
        "outputId": "f858b808-b11a-40b2-9b6e-d23aaf96ed67"
      },
      "outputs": [
        {
          "output_type": "stream",
          "name": "stderr",
          "text": [
            "[nltk_data] Downloading package stopwords to /root/nltk_data...\n",
            "[nltk_data]   Unzipping corpora/stopwords.zip.\n"
          ]
        },
        {
          "output_type": "display_data",
          "data": {
            "text/plain": [
              "<Figure size 864x576 with 2 Axes>"
            ],
            "image/png": "[encoded data removed]"
          },
          "metadata": {
            "needs_background": "light"
          }
        }
      ],
      "source": [
        "# Checking for stop words\n",
        "import nltk\n",
        "nltk.download('stopwords')\n",
        "\n",
        "from nltk.corpus import stopwords\n",
        "\n",
        "stopwords = stopwords.words('english')\n",
        "\n",
        "words_not_disaster = []\n",
        "for tweet in train_val_df[train_val_df.target == 0]['text']:\n",
        "  for word in tweet.split():\n",
        "    if word in stopwords:\n",
        "      words_not_disaster.append(word)\n",
        "\n",
        "words_not_disaster = Counter(words_not_disaster).most_common(10)\n",
        "quantities_not_disaster = [x_i for x_i, _ in words_not_disaster]\n",
        "words_not_disaster = [y_i for _, y_i in words_not_disaster]\n",
        "\n",
        "words_disaster = []\n",
        "for tweet in train_val_df[train_val_df.target == 1]['text']:\n",
        "  for word in tweet.split():\n",
        "    if word in stopwords:\n",
        "      words_disaster.append(word)\n",
        "\n",
        "words_disaster = Counter(words_disaster).most_common(10)\n",
        "quantities_disaster = [x_i for x_i, _ in words_disaster]\n",
        "words_disaster = [y_i for _, y_i in words_disaster]\n",
        "\n",
        "\n",
        "fig, (ax1, ax2) = plt.subplots(1, 2, figsize = (12, 8))\n",
        "\n",
        "\n",
        "ax1.bar(quantities_not_disaster, words_not_disaster, color='r')\n",
        "ax1.title.set_text('not disaster')\n",
        "ax2.bar(quantities_disaster, words_disaster, color='b')\n",
        "ax2.title.set_text('disaster')\n",
        "plt.show()"
      ]
    },
    {
      "cell_type": "code",
      "execution_count": null,
      "metadata": {
        "colab": {
          "base_uri": "https://localhost:8080/",
          "height": 499
        },
        "id": "o5zpmK9Tp0gZ",
        "outputId": "08d66915-ab21-4a4d-8b63-f5f6526fdbe8"
      },
      "outputs": [
        {
          "output_type": "display_data",
          "data": {
            "text/plain": [
              "<Figure size 1440x576 with 2 Axes>"
            ],
            "image/png": "[encoded data removed]"
          },
          "metadata": {
            "needs_background": "light"
          }
        }
      ],
      "source": [
        "#Bigrams\n",
        "import re\n",
        "bigrams_not_disaster = []\n",
        "\n",
        "for x_i in train_val_df[train_val_df.target == 0].text:\n",
        "  for y_i in range(1, len(re.split(\"[:\\s]\\s*\", x_i))):\n",
        "    splited_sentence = re.split(\"[:\\s]\\s*\", x_i)\n",
        "    bigrams_not_disaster.append((f'{splited_sentence[y_i - 1]} {splited_sentence[y_i]}'))\n",
        "\n",
        "bigrams_disaster = []\n",
        "\n",
        "for x_i in train_val_df[train_val_df.target == 1].text:\n",
        "  for y_i in range(1, len(re.split(\"[:\\s]\\s*\", x_i))):\n",
        "    splited_sentence = re.split(\"[:\\s]\\s*\", x_i)\n",
        "    bigrams_disaster.append((f'{splited_sentence[y_i - 1]} {splited_sentence[y_i]}'))\n",
        "\n",
        "counter_b_not_disaster = Counter(bigrams_not_disaster).most_common(8)\n",
        "counter_b_disaster = Counter(bigrams_disaster).most_common(8)\n",
        "\n",
        "x_b_not_disaster = []\n",
        "y_b_not_disaster = []\n",
        "\n",
        "for bigram in counter_b_not_disaster:\n",
        "  x_b_not_disaster.append(bigram[0])\n",
        "  y_b_not_disaster.append(bigram[1])\n",
        "\n",
        "x_b_disaster = []\n",
        "y_b_disaster = []\n",
        "\n",
        "for bigram in counter_b_disaster:\n",
        "  x_b_disaster.append(bigram[0])\n",
        "  y_b_disaster.append(bigram[1])\n",
        "\n",
        "fig, (ax1, ax2) = plt.subplots(1, 2, figsize = (20, 8))\n",
        "ax1.bar(x_b_not_disaster, y_b_not_disaster, color='r')\n",
        "ax1.title.set_text('not disaster')\n",
        "ax2.bar(x_b_disaster, y_b_disaster, color='b')\n",
        "ax2.title.set_text('disaster')\n",
        "plt.show()"
      ]
    },
    {
      "cell_type": "code",
      "execution_count": null,
      "metadata": {
        "colab": {
          "base_uri": "https://localhost:8080/",
          "height": 206
        },
        "id": "UGWq1WCzcNao",
        "outputId": "b88ffba9-964d-408b-874a-f4cbd3d9101b"
      },
      "outputs": [
        {
          "output_type": "execute_result",
          "data": {
            "text/plain": [
              "                                                text  target\n",
              "0  Our Deeds are the Reason of this #earthquake M...       1\n",
              "1             Forest fire near La Ronge Sask. Canada       1\n",
              "2  All residents asked to 'shelter in place' are ...       1\n",
              "3  13,000 people receive #wildfires evacuation or...       1\n",
              "4  Just got sent this photo from Ruby #Alaska as ...       1"
            ],
            "text/html": [
              "\n",
              "  <div id=\"df-9f3a3602-2289-4388-b898-00a7a156be54\">\n",
              "    <div class=\"colab-df-container\">\n",
              "      <div>\n",
              "<style scoped>\n",
              "    .dataframe tbody tr th:only-of-type {\n",
              "        vertical-align: middle;\n",
              "    }\n",
              "\n",
              "    .dataframe tbody tr th {\n",
              "        vertical-align: top;\n",
              "    }\n",
              "\n",
              "    .dataframe thead th {\n",
              "        text-align: right;\n",
              "    }\n",
              "</style>\n",
              "<table border=\"1\" class=\"dataframe\">\n",
              "  <thead>\n",
              "    <tr style=\"text-align: right;\">\n",
              "      <th></th>\n",
              "      <th>text</th>\n",
              "      <th>target</th>\n",
              "    </tr>\n",
              "  </thead>\n",
              "  <tbody>\n",
              "    <tr>\n",
              "      <th>0</th>\n",
              "      <td>Our Deeds are the Reason of this #earthquake M...</td>\n",
              "      <td>1</td>\n",
              "    </tr>\n",
              "    <tr>\n",
              "      <th>1</th>\n",
              "      <td>Forest fire near La Ronge Sask. Canada</td>\n",
              "      <td>1</td>\n",
              "    </tr>\n",
              "    <tr>\n",
              "      <th>2</th>\n",
              "      <td>All residents asked to 'shelter in place' are ...</td>\n",
              "      <td>1</td>\n",
              "    </tr>\n",
              "    <tr>\n",
              "      <th>3</th>\n",
              "      <td>13,000 people receive #wildfires evacuation or...</td>\n",
              "      <td>1</td>\n",
              "    </tr>\n",
              "    <tr>\n",
              "      <th>4</th>\n",
              "      <td>Just got sent this photo from Ruby #Alaska as ...</td>\n",
              "      <td>1</td>\n",
              "    </tr>\n",
              "  </tbody>\n",
              "</table>\n",
              "</div>\n",
              "      <button class=\"colab-df-convert\" onclick=\"convertToInteractive('df-9f3a3602-2289-4388-b898-00a7a156be54')\"\n",
              "              title=\"Convert this dataframe to an interactive table.\"\n",
              "              style=\"display:none;\">\n",
              "        \n",
              "  <svg xmlns=\"http://www.w3.org/2000/svg\" height=\"24px\"viewBox=\"0 0 24 24\"\n",
              "       width=\"24px\">\n",
              "    <path d=\"M0 0h24v24H0V0z\" fill=\"none\"/>\n",
              "    <path d=\"M18.56 5.44l.94 2.06.94-2.06 2.06-.94-2.06-.94-.94-2.06-.94 2.06-2.06.94zm-11 1L8.5 8.5l.94-2.06 2.06-.94-2.06-.94L8.5 2.5l-.94 2.06-2.06.94zm10 10l.94 2.06.94-2.06 2.06-.94-2.06-.94-.94-2.06-.94 2.06-2.06.94z\"/><path d=\"M17.41 7.96l-1.37-1.37c-.4-.4-.92-.59-1.43-.59-.52 0-1.04.2-1.43.59L10.3 9.45l-7.72 7.72c-.78.78-.78 2.05 0 2.83L4 21.41c.39.39.9.59 1.41.59.51 0 1.02-.2 1.41-.59l7.78-7.78 2.81-2.81c.8-.78.8-2.07 0-2.86zM5.41 20L4 18.59l7.72-7.72 1.47 1.35L5.41 20z\"/>\n",
              "  </svg>\n",
              "      </button>\n",
              "      \n",
              "  <style>\n",
              "    .colab-df-container {\n",
              "      display:flex;\n",
              "      flex-wrap:wrap;\n",
              "      gap: 12px;\n",
              "    }\n",
              "\n",
              "    .colab-df-convert {\n",
              "      background-color: #E8F0FE;\n",
              "      border: none;\n",
              "      border-radius: 50%;\n",
              "      cursor: pointer;\n",
              "      display: none;\n",
              "      fill: #1967D2;\n",
              "      height: 32px;\n",
              "      padding: 0 0 0 0;\n",
              "      width: 32px;\n",
              "    }\n",
              "\n",
              "    .colab-df-convert:hover {\n",
              "      background-color: #E2EBFA;\n",
              "      box-shadow: 0px 1px 2px rgba(60, 64, 67, 0.3), 0px 1px 3px 1px rgba(60, 64, 67, 0.15);\n",
              "      fill: #174EA6;\n",
              "    }\n",
              "\n",
              "    [theme=dark] .colab-df-convert {\n",
              "      background-color: #3B4455;\n",
              "      fill: #D2E3FC;\n",
              "    }\n",
              "\n",
              "    [theme=dark] .colab-df-convert:hover {\n",
              "      background-color: #434B5C;\n",
              "      box-shadow: 0px 1px 3px 1px rgba(0, 0, 0, 0.15);\n",
              "      filter: drop-shadow(0px 1px 2px rgba(0, 0, 0, 0.3));\n",
              "      fill: #FFFFFF;\n",
              "    }\n",
              "  </style>\n",
              "\n",
              "      <script>\n",
              "        const buttonEl =\n",
              "          document.querySelector('#df-9f3a3602-2289-4388-b898-00a7a156be54 button.colab-df-convert');\n",
              "        buttonEl.style.display =\n",
              "          google.colab.kernel.accessAllowed ? 'block' : 'none';\n",
              "\n",
              "        async function convertToInteractive(key) {\n",
              "          const element = document.querySelector('#df-9f3a3602-2289-4388-b898-00a7a156be54');\n",
              "          const dataTable =\n",
              "            await google.colab.kernel.invokeFunction('convertToInteractive',\n",
              "                                                     [key], {});\n",
              "          if (!dataTable) return;\n",
              "\n",
              "          const docLinkHtml = 'Like what you see? Visit the ' +\n",
              "            '<a target=\"_blank\" href=https://colab.research.google.com/notebooks/data_table.ipynb>data table notebook</a>'\n",
              "            + ' to learn more about interactive tables.';\n",
              "          element.innerHTML = '';\n",
              "          dataTable['output_type'] = 'display_data';\n",
              "          await google.colab.output.renderOutput(dataTable, element);\n",
              "          const docLink = document.createElement('div');\n",
              "          docLink.innerHTML = docLinkHtml;\n",
              "          element.appendChild(docLink);\n",
              "        }\n",
              "      </script>\n",
              "    </div>\n",
              "  </div>\n",
              "  "
            ]
          },
          "metadata": {},
          "execution_count": 10
        }
      ],
      "source": [
        "train_val_df.head()"
      ]
    },
    {
      "cell_type": "code",
      "execution_count": null,
      "metadata": {
        "colab": {
          "base_uri": "https://localhost:8080/",
          "height": 206
        },
        "id": "77dhWVgSTQ1p",
        "outputId": "e78babdd-1768-4a36-f917-982e392649a8"
      },
      "outputs": [
        {
          "output_type": "execute_result",
          "data": {
            "text/plain": [
              "                                                   text  target\n",
              "7608  Two giant cranes holding a bridge collapse int...       1\n",
              "7609  @aria_ahrary @TheTawniest The out of control w...       1\n",
              "7610  M1.94 [01:04 UTC]?5km S of Volcano Hawaii. htt...       1\n",
              "7611  Police investigating after an e-bike collided ...       1\n",
              "7612  The Latest: More Homes Razed by Northern Calif...       1"
            ],
            "text/html": [
              "\n",
              "  <div id=\"df-eaff6f31-5a17-4328-9448-c457fcd925d8\">\n",
              "    <div class=\"colab-df-container\">\n",
              "      <div>\n",
              "<style scoped>\n",
              "    .dataframe tbody tr th:only-of-type {\n",
              "        vertical-align: middle;\n",
              "    }\n",
              "\n",
              "    .dataframe tbody tr th {\n",
              "        vertical-align: top;\n",
              "    }\n",
              "\n",
              "    .dataframe thead th {\n",
              "        text-align: right;\n",
              "    }\n",
              "</style>\n",
              "<table border=\"1\" class=\"dataframe\">\n",
              "  <thead>\n",
              "    <tr style=\"text-align: right;\">\n",
              "      <th></th>\n",
              "      <th>text</th>\n",
              "      <th>target</th>\n",
              "    </tr>\n",
              "  </thead>\n",
              "  <tbody>\n",
              "    <tr>\n",
              "      <th>7608</th>\n",
              "      <td>Two giant cranes holding a bridge collapse int...</td>\n",
              "      <td>1</td>\n",
              "    </tr>\n",
              "    <tr>\n",
              "      <th>7609</th>\n",
              "      <td>@aria_ahrary @TheTawniest The out of control w...</td>\n",
              "      <td>1</td>\n",
              "    </tr>\n",
              "    <tr>\n",
              "      <th>7610</th>\n",
              "      <td>M1.94 [01:04 UTC]?5km S of Volcano Hawaii. htt...</td>\n",
              "      <td>1</td>\n",
              "    </tr>\n",
              "    <tr>\n",
              "      <th>7611</th>\n",
              "      <td>Police investigating after an e-bike collided ...</td>\n",
              "      <td>1</td>\n",
              "    </tr>\n",
              "    <tr>\n",
              "      <th>7612</th>\n",
              "      <td>The Latest: More Homes Razed by Northern Calif...</td>\n",
              "      <td>1</td>\n",
              "    </tr>\n",
              "  </tbody>\n",
              "</table>\n",
              "</div>\n",
              "      <button class=\"colab-df-convert\" onclick=\"convertToInteractive('df-eaff6f31-5a17-4328-9448-c457fcd925d8')\"\n",
              "              title=\"Convert this dataframe to an interactive table.\"\n",
              "              style=\"display:none;\">\n",
              "        \n",
              "  <svg xmlns=\"http://www.w3.org/2000/svg\" height=\"24px\"viewBox=\"0 0 24 24\"\n",
              "       width=\"24px\">\n",
              "    <path d=\"M0 0h24v24H0V0z\" fill=\"none\"/>\n",
              "    <path d=\"M18.56 5.44l.94 2.06.94-2.06 2.06-.94-2.06-.94-.94-2.06-.94 2.06-2.06.94zm-11 1L8.5 8.5l.94-2.06 2.06-.94-2.06-.94L8.5 2.5l-.94 2.06-2.06.94zm10 10l.94 2.06.94-2.06 2.06-.94-2.06-.94-.94-2.06-.94 2.06-2.06.94z\"/><path d=\"M17.41 7.96l-1.37-1.37c-.4-.4-.92-.59-1.43-.59-.52 0-1.04.2-1.43.59L10.3 9.45l-7.72 7.72c-.78.78-.78 2.05 0 2.83L4 21.41c.39.39.9.59 1.41.59.51 0 1.02-.2 1.41-.59l7.78-7.78 2.81-2.81c.8-.78.8-2.07 0-2.86zM5.41 20L4 18.59l7.72-7.72 1.47 1.35L5.41 20z\"/>\n",
              "  </svg>\n",
              "      </button>\n",
              "      \n",
              "  <style>\n",
              "    .colab-df-container {\n",
              "      display:flex;\n",
              "      flex-wrap:wrap;\n",
              "      gap: 12px;\n",
              "    }\n",
              "\n",
              "    .colab-df-convert {\n",
              "      background-color: #E8F0FE;\n",
              "      border: none;\n",
              "      border-radius: 50%;\n",
              "      cursor: pointer;\n",
              "      display: none;\n",
              "      fill: #1967D2;\n",
              "      height: 32px;\n",
              "      padding: 0 0 0 0;\n",
              "      width: 32px;\n",
              "    }\n",
              "\n",
              "    .colab-df-convert:hover {\n",
              "      background-color: #E2EBFA;\n",
              "      box-shadow: 0px 1px 2px rgba(60, 64, 67, 0.3), 0px 1px 3px 1px rgba(60, 64, 67, 0.15);\n",
              "      fill: #174EA6;\n",
              "    }\n",
              "\n",
              "    [theme=dark] .colab-df-convert {\n",
              "      background-color: #3B4455;\n",
              "      fill: #D2E3FC;\n",
              "    }\n",
              "\n",
              "    [theme=dark] .colab-df-convert:hover {\n",
              "      background-color: #434B5C;\n",
              "      box-shadow: 0px 1px 3px 1px rgba(0, 0, 0, 0.15);\n",
              "      filter: drop-shadow(0px 1px 2px rgba(0, 0, 0, 0.3));\n",
              "      fill: #FFFFFF;\n",
              "    }\n",
              "  </style>\n",
              "\n",
              "      <script>\n",
              "        const buttonEl =\n",
              "          document.querySelector('#df-eaff6f31-5a17-4328-9448-c457fcd925d8 button.colab-df-convert');\n",
              "        buttonEl.style.display =\n",
              "          google.colab.kernel.accessAllowed ? 'block' : 'none';\n",
              "\n",
              "        async function convertToInteractive(key) {\n",
              "          const element = document.querySelector('#df-eaff6f31-5a17-4328-9448-c457fcd925d8');\n",
              "          const dataTable =\n",
              "            await google.colab.kernel.invokeFunction('convertToInteractive',\n",
              "                                                     [key], {});\n",
              "          if (!dataTable) return;\n",
              "\n",
              "          const docLinkHtml = 'Like what you see? Visit the ' +\n",
              "            '<a target=\"_blank\" href=https://colab.research.google.com/notebooks/data_table.ipynb>data table notebook</a>'\n",
              "            + ' to learn more about interactive tables.';\n",
              "          element.innerHTML = '';\n",
              "          dataTable['output_type'] = 'display_data';\n",
              "          await google.colab.output.renderOutput(dataTable, element);\n",
              "          const docLink = document.createElement('div');\n",
              "          docLink.innerHTML = docLinkHtml;\n",
              "          element.appendChild(docLink);\n",
              "        }\n",
              "      </script>\n",
              "    </div>\n",
              "  </div>\n",
              "  "
            ]
          },
          "metadata": {},
          "execution_count": 11
        }
      ],
      "source": [
        "train_val_df.tail()"
      ]
    },
    {
      "cell_type": "markdown",
      "metadata": {
        "id": "aLafd43eXF9D"
      },
      "source": [
        "\n",
        "#Data Cleaning\n"
      ]
    },
    {
      "cell_type": "code",
      "execution_count": null,
      "metadata": {
        "id": "BRl5hflEXH43"
      },
      "outputs": [],
      "source": [
        "def remove_trash(text):\n",
        "  #fonte: https://stackoverflow.com/questions/8376691/how-to-remove-hashtag-user-link-of-a-tweet-using-regular-expression\n",
        "  return ' '.join(re.sub(\"(@[A-Za-z0-9]+)|([^0-9A-Za-z \\t])|(\\w+:\\/\\/\\S+)\",\" \",text).split())\n",
        "\n",
        "train_val_df['text'] = train_val_df['text'].apply(lambda x: remove_trash(x))\n",
        "test_df['text'] = test_df['text'].apply(lambda x: remove_trash(x))"
      ]
    },
    {
      "cell_type": "code",
      "source": [
        "remove_trash(\"@shawn Titanic tragedy could have been prevented 😮​😮​😮​ Economic Times: Telegraph.co.ukTitanic tragedy could have been preve... http://bit.ly/tuN2wx\")"
      ],
      "metadata": {
        "colab": {
          "base_uri": "https://localhost:8080/",
          "height": 35
        },
        "id": "LxMiyH2G-8nk",
        "outputId": "ca36b685-1929-42cb-f718-787078ba1941"
      },
      "execution_count": null,
      "outputs": [
        {
          "output_type": "execute_result",
          "data": {
            "text/plain": [
              "'Titanic tragedy could have been prevented Economic Times Telegraph co ukTitanic tragedy could have been preve'"
            ],
            "application/vnd.google.colaboratory.intrinsic+json": {
              "type": "string"
            }
          },
          "metadata": {},
          "execution_count": 13
        }
      ]
    },
    {
      "cell_type": "code",
      "source": [
        "#Removing stop words\n",
        "\n",
        "train_val_df_ws = train_val_df.copy()\n",
        "test_df_ws = test_df.copy()\n",
        "\n",
        "for i in range(0, len(train_val_df)):\n",
        "  train_val_df_ws['text'][i] = [word for word in train_val_df['text'][i].split(' ') if not word in stopwords]\n",
        "  \n",
        "for i in range(0, len(train_val_df)):\n",
        "  train_val_df_ws['text'][i] = \" \".join(train_val_df_ws['text'][i])\n",
        "\n",
        "for i in range(0, len(test_df)):\n",
        "  test_df_ws['text'][i] = [word for word in test_df['text'][i].split(' ') if not word in stopwords]\n",
        "  \n",
        "for i in range(0, len(test_df)):\n",
        "  test_df_ws['text'][i] = \" \".join(test_df_ws['text'][i])\n"
      ],
      "metadata": {
        "colab": {
          "base_uri": "https://localhost:8080/"
        },
        "id": "p9nNMqIO5OIP",
        "outputId": "7ee3b043-c728-4508-84a3-11a521b86cc0"
      },
      "execution_count": null,
      "outputs": [
        {
          "output_type": "stream",
          "name": "stderr",
          "text": [
            "/usr/local/lib/python3.7/dist-packages/ipykernel_launcher.py:7: SettingWithCopyWarning: \n",
            "A value is trying to be set on a copy of a slice from a DataFrame\n",
            "\n",
            "See the caveats in the documentation: https://pandas.pydata.org/pandas-docs/stable/user_guide/indexing.html#returning-a-view-versus-a-copy\n",
            "  import sys\n",
            "/usr/local/lib/python3.7/dist-packages/ipykernel_launcher.py:10: SettingWithCopyWarning: \n",
            "A value is trying to be set on a copy of a slice from a DataFrame\n",
            "\n",
            "See the caveats in the documentation: https://pandas.pydata.org/pandas-docs/stable/user_guide/indexing.html#returning-a-view-versus-a-copy\n",
            "  # Remove the CWD from sys.path while we load stuff.\n"
          ]
        }
      ]
    },
    {
      "cell_type": "code",
      "execution_count": null,
      "metadata": {
        "id": "OIcrSWGCbwhA",
        "colab": {
          "base_uri": "https://localhost:8080/"
        },
        "outputId": "a5dcbfc6-ec75-4d29-c4f3-d95af336da10"
      },
      "outputs": [
        {
          "output_type": "stream",
          "name": "stdout",
          "text": [
            "Looking in indexes: https://pypi.org/simple, https://us-python.pkg.dev/colab-wheels/public/simple/\n",
            "Collecting pyspellchecker\n",
            "  Downloading pyspellchecker-0.6.3-py3-none-any.whl (2.7 MB)\n",
            "\u001b[K     |████████████████████████████████| 2.7 MB 4.7 MB/s \n",
            "\u001b[?25hInstalling collected packages: pyspellchecker\n",
            "Successfully installed pyspellchecker-0.6.3\n"
          ]
        }
      ],
      "source": [
        "#Correcting misspellings\n",
        "\n",
        "!pip install pyspellchecker\n",
        "from spellchecker import SpellChecker\n",
        "\n",
        "spell = SpellChecker()\n",
        "\n",
        "def correct_misspellings(text):\n",
        "  corrected_text = []\n",
        "  misspelled = spell.unknown(text.split())\n",
        "  splitted_sentence = np.array(text.split())\n",
        "\n",
        "  for word in splitted_sentence:\n",
        "    if word in misspelled:\n",
        "      corrected_text.append(spell.correction(word))\n",
        "    else:\n",
        "      corrected_text.append(word)\n",
        "  \n",
        "  return \" \".join(corrected_text)"
      ]
    },
    {
      "cell_type": "code",
      "execution_count": null,
      "metadata": {
        "id": "KA8_RkzHcGhs"
      },
      "outputs": [],
      "source": [
        "train_val_df_ws['text'] = train_val_df_ws['text'].apply(lambda x: correct_misspellings(x))\n",
        "test_df_ws['text'] = test_df_ws['text'].apply(lambda x: correct_misspellings(x))"
      ]
    },
    {
      "cell_type": "code",
      "source": [
        "len(train_val_df_ws[train_val_df.target == 1]), len(train_val_df_ws[train_val_df.target == 0])"
      ],
      "metadata": {
        "id": "vwiDJA5YNCcX",
        "colab": {
          "base_uri": "https://localhost:8080/"
        },
        "outputId": "08418b69-5152-49de-e770-0ef8235ae8e8"
      },
      "execution_count": null,
      "outputs": [
        {
          "output_type": "execute_result",
          "data": {
            "text/plain": [
              "(3271, 4342)"
            ]
          },
          "metadata": {},
          "execution_count": 17
        }
      ]
    },
    {
      "cell_type": "code",
      "source": [
        "test_X_ws = test_df_ws['text'].to_numpy()\n",
        "train_X, val_X, train_y, val_y = train_test_split(train_val_df_ws['text'].to_numpy(),\n",
        "                                                  train_val_df_ws['target'].to_numpy(),\n",
        "                                                  train_size = 0.8, random_state = 42, shuffle = True)"
      ],
      "metadata": {
        "id": "KLmB9HnGLKs9"
      },
      "execution_count": null,
      "outputs": []
    },
    {
      "cell_type": "code",
      "source": [
        "(len(train_X), len(train_y)), (len(val_X), len(val_y)), len(test_X_ws)"
      ],
      "metadata": {
        "id": "6i5UGIGqM3oD",
        "colab": {
          "base_uri": "https://localhost:8080/"
        },
        "outputId": "2cbfe920-2544-41ca-fe1a-b73574c98f84"
      },
      "execution_count": null,
      "outputs": [
        {
          "output_type": "execute_result",
          "data": {
            "text/plain": [
              "((6090, 6090), (1523, 1523), 3263)"
            ]
          },
          "metadata": {},
          "execution_count": 19
        }
      ]
    },
    {
      "cell_type": "code",
      "source": [
        "import tensorflow_hub as hub\n",
        "\n",
        "pretrained_layer = hub.KerasLayer(\"https://tfhub.dev/google/universal-sentence-encoder/4\", dtype=tf.string) "
      ],
      "metadata": {
        "id": "h6ymoJ09LbEu"
      },
      "execution_count": null,
      "outputs": []
    },
    {
      "cell_type": "code",
      "source": [
        "model = tf.keras.Sequential([\n",
        "    pretrained_layer,\n",
        "    tf.keras.layers.Dense(64, activation='relu'),\n",
        "    tf.keras.layers.Dense(1, activation='sigmoid')\n",
        "])"
      ],
      "metadata": {
        "id": "At4fcWC3E7IX"
      },
      "execution_count": null,
      "outputs": []
    },
    {
      "cell_type": "code",
      "source": [
        "tf.random.set_seed(42)\n",
        "model.compile(optimizer= tf.keras.optimizers.Adam(),\n",
        "              loss= tf.keras.losses.BinaryCrossentropy(),\n",
        "              metrics=['accuracy', tf.keras.metrics.Recall(), \n",
        "                       tf.keras.metrics.Precision()])"
      ],
      "metadata": {
        "id": "IKTbPn6pFJgA"
      },
      "execution_count": null,
      "outputs": []
    },
    {
      "cell_type": "code",
      "source": [
        "model.evaluate(train_X, train_y)\n",
        "model.evaluate(val_X, val_y)"
      ],
      "metadata": {
        "id": "EjxTac1xFKbE",
        "colab": {
          "base_uri": "https://localhost:8080/"
        },
        "outputId": "ce2f065c-ab26-4135-944f-45946599c19e"
      },
      "execution_count": null,
      "outputs": [
        {
          "output_type": "stream",
          "name": "stdout",
          "text": [
            "191/191 [==============================] - 8s 10ms/step - loss: 0.6986 - accuracy: 0.4481 - recall: 0.9127 - precision: 0.4331\n",
            "48/48 [==============================] - 0s 10ms/step - loss: 0.6987 - accuracy: 0.4399 - recall: 0.9183 - precision: 0.4269\n"
          ]
        },
        {
          "output_type": "execute_result",
          "data": {
            "text/plain": [
              "[0.6986730694770813,\n",
              " 0.43992120027542114,\n",
              " 0.9183359146118164,\n",
              " 0.4269340932369232]"
            ]
          },
          "metadata": {},
          "execution_count": 23
        }
      ]
    },
    {
      "cell_type": "code",
      "source": [
        "model.summary()"
      ],
      "metadata": {
        "id": "esR1MAiWIP8K",
        "colab": {
          "base_uri": "https://localhost:8080/"
        },
        "outputId": "ec23d823-2e9e-400c-f070-613b13c96db7"
      },
      "execution_count": null,
      "outputs": [
        {
          "output_type": "stream",
          "name": "stdout",
          "text": [
            "Model: \"sequential\"\n",
            "_________________________________________________________________\n",
            " Layer (type)                Output Shape              Param #   \n",
            "=================================================================\n",
            " keras_layer (KerasLayer)    (None, 512)               256797824 \n",
            "                                                                 \n",
            " dense (Dense)               (None, 64)                32832     \n",
            "                                                                 \n",
            " dense_1 (Dense)             (None, 1)                 65        \n",
            "                                                                 \n",
            "=================================================================\n",
            "Total params: 256,830,721\n",
            "Trainable params: 32,897\n",
            "Non-trainable params: 256,797,824\n",
            "_________________________________________________________________\n"
          ]
        }
      ]
    },
    {
      "cell_type": "code",
      "source": [
        "history = model.fit(train_X, train_y, epochs=10, validation_data = (val_X, val_y))"
      ],
      "metadata": {
        "id": "EKuDhxycP1B9",
        "colab": {
          "base_uri": "https://localhost:8080/"
        },
        "outputId": "d262d8d3-d0ac-493b-d8bb-603bfdedd424"
      },
      "execution_count": null,
      "outputs": [
        {
          "output_type": "stream",
          "name": "stdout",
          "text": [
            "Epoch 1/10\n",
            "191/191 [==============================] - 5s 13ms/step - loss: 0.5236 - accuracy: 0.7657 - recall: 0.7498 - precision: 0.7183 - val_loss: 0.4477 - val_accuracy: 0.7991 - val_recall: 0.6918 - val_precision: 0.8090\n",
            "Epoch 2/10\n",
            "191/191 [==============================] - 2s 13ms/step - loss: 0.4233 - accuracy: 0.8110 - recall: 0.7422 - precision: 0.8038 - val_loss: 0.4273 - val_accuracy: 0.8011 - val_recall: 0.7411 - val_precision: 0.7808\n",
            "Epoch 3/10\n",
            "191/191 [==============================] - 2s 12ms/step - loss: 0.4071 - accuracy: 0.8179 - recall: 0.7498 - precision: 0.8127 - val_loss: 0.4268 - val_accuracy: 0.8089 - val_recall: 0.7273 - val_precision: 0.8055\n",
            "Epoch 4/10\n",
            "191/191 [==============================] - 2s 13ms/step - loss: 0.3965 - accuracy: 0.8225 - recall: 0.7502 - precision: 0.8220 - val_loss: 0.4258 - val_accuracy: 0.8096 - val_recall: 0.7211 - val_precision: 0.8111\n",
            "Epoch 5/10\n",
            "191/191 [==============================] - 2s 13ms/step - loss: 0.3897 - accuracy: 0.8256 - recall: 0.7490 - precision: 0.8294 - val_loss: 0.4329 - val_accuracy: 0.8083 - val_recall: 0.7812 - val_precision: 0.7717\n",
            "Epoch 6/10\n",
            "191/191 [==============================] - 2s 12ms/step - loss: 0.3829 - accuracy: 0.8319 - recall: 0.7563 - precision: 0.8374 - val_loss: 0.4237 - val_accuracy: 0.8129 - val_recall: 0.7689 - val_precision: 0.7871\n",
            "Epoch 7/10\n",
            "191/191 [==============================] - 2s 13ms/step - loss: 0.3761 - accuracy: 0.8360 - recall: 0.7613 - precision: 0.8425 - val_loss: 0.4228 - val_accuracy: 0.8122 - val_recall: 0.7658 - val_precision: 0.7876\n",
            "Epoch 8/10\n",
            "191/191 [==============================] - 2s 13ms/step - loss: 0.3696 - accuracy: 0.8361 - recall: 0.7632 - precision: 0.8415 - val_loss: 0.4213 - val_accuracy: 0.8188 - val_recall: 0.7643 - val_precision: 0.8013\n",
            "Epoch 9/10\n",
            "191/191 [==============================] - 2s 13ms/step - loss: 0.3621 - accuracy: 0.8424 - recall: 0.7693 - precision: 0.8503 - val_loss: 0.4187 - val_accuracy: 0.8142 - val_recall: 0.7365 - val_precision: 0.8102\n",
            "Epoch 10/10\n",
            "191/191 [==============================] - 2s 13ms/step - loss: 0.3549 - accuracy: 0.8460 - recall: 0.7677 - precision: 0.8595 - val_loss: 0.4219 - val_accuracy: 0.8135 - val_recall: 0.7581 - val_precision: 0.7948\n"
          ]
        }
      ]
    },
    {
      "cell_type": "code",
      "source": [
        "plt.plot(history.history['accuracy'], label = 'Training accuracy')\n",
        "plt.plot(history.history['val_accuracy'], label = 'Validation accuracy')\n",
        "plt.title('Accuracy of the model')\n",
        "plt.xlabel('Epoch')\n",
        "plt.ylabel('Accuracy')\n",
        "plt.legend()\n",
        "plt.show()"
      ],
      "metadata": {
        "id": "FU01LC195Bq1",
        "colab": {
          "base_uri": "https://localhost:8080/",
          "height": 295
        },
        "outputId": "5a03d2cc-fade-4e7b-8056-f2ae43bf4d3f"
      },
      "execution_count": null,
      "outputs": [
        {
          "output_type": "display_data",
          "data": {
            "text/plain": [
              "<Figure size 432x288 with 1 Axes>"
            ],
            "image/png": "[encoded data removed]"
          },
          "metadata": {
            "needs_background": "light"
          }
        }
      ]
    },
    {
      "cell_type": "code",
      "source": [
        "plt.plot(history.history['loss'], label = 'Training loss')\n",
        "plt.plot(history.history['val_loss'], label = 'Validation loss')\n",
        "plt.title('Loss of the model')\n",
        "plt.xlabel('Epoch')\n",
        "plt.ylabel('Loss')\n",
        "plt.legend()\n",
        "plt.show()"
      ],
      "metadata": {
        "id": "VjGFdpAL59VU",
        "colab": {
          "base_uri": "https://localhost:8080/",
          "height": 295
        },
        "outputId": "70b52078-9573-4dc8-e62b-c0e41cacec26"
      },
      "execution_count": null,
      "outputs": [
        {
          "output_type": "display_data",
          "data": {
            "text/plain": [
              "<Figure size 432x288 with 1 Axes>"
            ],
            "image/png": "[encoded data removed]"
          },
          "metadata": {
            "needs_background": "light"
          }
        }
      ]
    },
    {
      "cell_type": "code",
      "source": [
        "#Plot name can change according to the amount of times you run\n",
        "plt.plot(history.history['recall'], label = 'Training recall')\n",
        "plt.plot(history.history['val_recall'], label = 'Validation recall')\n",
        "plt.plot(history.history['precision'], label = 'Training precision')\n",
        "plt.plot(history.history['val_precision'], label = 'Validation precision')\n",
        "plt.axis([0, 9, 0, 1])\n",
        "plt.title('Precision vs Recall of the model')\n",
        "plt.xlabel('Epoch')\n",
        "plt.legend()\n",
        "plt.show()"
      ],
      "metadata": {
        "id": "_Gvfzf086Nxj",
        "colab": {
          "base_uri": "https://localhost:8080/",
          "height": 295
        },
        "outputId": "fec4feaa-efe8-488a-a0e3-20e86b9e2eb0"
      },
      "execution_count": null,
      "outputs": [
        {
          "output_type": "display_data",
          "data": {
            "text/plain": [
              "<Figure size 432x288 with 1 Axes>"
            ],
            "image/png": "[encoded data removed]"
          },
          "metadata": {
            "needs_background": "light"
          }
        }
      ]
    },
    {
      "cell_type": "markdown",
      "source": [
        "#Without removing stop words\n"
      ],
      "metadata": {
        "id": "ZTPxpGy2-0h3"
      }
    },
    {
      "cell_type": "code",
      "source": [
        "train_val_df['text'] = train_val_df['text'].apply(lambda x: correct_misspellings(x))\n",
        "test_df['text'] = test_df['text'].apply(lambda x: correct_misspellings(x))"
      ],
      "metadata": {
        "id": "zuRVNXYx-3zY"
      },
      "execution_count": null,
      "outputs": []
    },
    {
      "cell_type": "code",
      "source": [
        "test_X = test_df['text'].to_numpy()\n",
        "train_X, val_X, train_y, val_y = train_test_split(train_val_df['text'].to_numpy(),\n",
        "                                                  train_val_df['target'].to_numpy(),\n",
        "                                                  train_size = 0.8, random_state = 42, shuffle = True)"
      ],
      "metadata": {
        "id": "V0Uojzw8-8lE"
      },
      "execution_count": null,
      "outputs": []
    },
    {
      "cell_type": "code",
      "source": [
        "model_2 = tf.keras.Sequential([\n",
        "    pretrained_layer,\n",
        "    tf.keras.layers.Dense(64, activation='relu'),\n",
        "    tf.keras.layers.Dense(1, activation='sigmoid')\n",
        "])"
      ],
      "metadata": {
        "id": "XQXmq5F8_xad"
      },
      "execution_count": null,
      "outputs": []
    },
    {
      "cell_type": "code",
      "source": [
        "tf.random.set_seed(42)\n",
        "model_2.compile(optimizer= tf.keras.optimizers.Adam(),\n",
        "              loss= tf.keras.losses.BinaryCrossentropy(),\n",
        "              metrics=['accuracy', tf.keras.metrics.Recall(), \n",
        "                       tf.keras.metrics.Precision()])"
      ],
      "metadata": {
        "id": "cs9WkIkkAFVa"
      },
      "execution_count": null,
      "outputs": []
    },
    {
      "cell_type": "code",
      "source": [
        "history_2 = model_2.fit(train_X, train_y, epochs=10, validation_data = (val_X, val_y))"
      ],
      "metadata": {
        "id": "Vz3kQ8K3AfLt",
        "colab": {
          "base_uri": "https://localhost:8080/"
        },
        "outputId": "b05475f1-1e03-41f9-d891-46585f8eef72"
      },
      "execution_count": null,
      "outputs": [
        {
          "output_type": "stream",
          "name": "stdout",
          "text": [
            "Epoch 1/10\n",
            "191/191 [==============================] - 4s 16ms/step - loss: 0.5169 - accuracy: 0.7714 - recall_1: 0.7593 - precision_1: 0.7235 - val_loss: 0.4314 - val_accuracy: 0.8056 - val_recall_1: 0.6841 - val_precision_1: 0.8299\n",
            "Epoch 2/10\n",
            "191/191 [==============================] - 3s 13ms/step - loss: 0.4155 - accuracy: 0.8194 - recall_1: 0.7521 - precision_1: 0.8142 - val_loss: 0.4094 - val_accuracy: 0.8155 - val_recall_1: 0.7411 - val_precision_1: 0.8098\n",
            "Epoch 3/10\n",
            "191/191 [==============================] - 3s 13ms/step - loss: 0.3981 - accuracy: 0.8232 - recall_1: 0.7548 - precision_1: 0.8201 - val_loss: 0.4094 - val_accuracy: 0.8188 - val_recall_1: 0.7211 - val_precision_1: 0.8313\n",
            "Epoch 4/10\n",
            "191/191 [==============================] - 3s 13ms/step - loss: 0.3867 - accuracy: 0.8287 - recall_1: 0.7567 - precision_1: 0.8305 - val_loss: 0.4083 - val_accuracy: 0.8221 - val_recall_1: 0.7119 - val_precision_1: 0.8462\n",
            "Epoch 5/10\n",
            "191/191 [==============================] - 2s 13ms/step - loss: 0.3798 - accuracy: 0.8309 - recall_1: 0.7548 - precision_1: 0.8364 - val_loss: 0.4119 - val_accuracy: 0.8227 - val_recall_1: 0.7874 - val_precision_1: 0.7947\n",
            "Epoch 6/10\n",
            "191/191 [==============================] - 3s 13ms/step - loss: 0.3725 - accuracy: 0.8330 - recall_1: 0.7578 - precision_1: 0.8388 - val_loss: 0.4037 - val_accuracy: 0.8273 - val_recall_1: 0.7689 - val_precision_1: 0.8154\n",
            "Epoch 7/10\n",
            "191/191 [==============================] - 3s 13ms/step - loss: 0.3655 - accuracy: 0.8389 - recall_1: 0.7639 - precision_1: 0.8469 - val_loss: 0.4015 - val_accuracy: 0.8273 - val_recall_1: 0.7581 - val_precision_1: 0.8227\n",
            "Epoch 8/10\n",
            "191/191 [==============================] - 2s 13ms/step - loss: 0.3589 - accuracy: 0.8412 - recall_1: 0.7643 - precision_1: 0.8517 - val_loss: 0.4015 - val_accuracy: 0.8260 - val_recall_1: 0.7550 - val_precision_1: 0.8221\n",
            "Epoch 9/10\n",
            "191/191 [==============================] - 2s 13ms/step - loss: 0.3519 - accuracy: 0.8491 - recall_1: 0.7715 - precision_1: 0.8634 - val_loss: 0.3989 - val_accuracy: 0.8299 - val_recall_1: 0.7504 - val_precision_1: 0.8339\n",
            "Epoch 10/10\n",
            "191/191 [==============================] - 3s 13ms/step - loss: 0.3448 - accuracy: 0.8478 - recall_1: 0.7670 - precision_1: 0.8642 - val_loss: 0.4009 - val_accuracy: 0.8253 - val_recall_1: 0.7627 - val_precision_1: 0.8155\n"
          ]
        }
      ]
    },
    {
      "cell_type": "code",
      "source": [
        "plt.plot(history_2.history['accuracy'], label = 'Training accuracy')\n",
        "plt.plot(history_2.history['val_accuracy'], label = 'Validation accuracy')\n",
        "plt.title('Accuracy of the model')\n",
        "plt.xlabel('Epoch')\n",
        "plt.ylabel('Accuracy')\n",
        "plt.legend()\n",
        "plt.show()"
      ],
      "metadata": {
        "id": "DOroIMSEATt0",
        "colab": {
          "base_uri": "https://localhost:8080/",
          "height": 54
        },
        "outputId": "c23d9e17-a693-47f8-bb72-b1f0e0344d1e"
      },
      "execution_count": null,
      "outputs": [
        {
          "output_type": "display_data",
          "data": {
            "text/plain": [
              "<Figure size 432x288 with 1 Axes>"
            ],
            "image/png": "[encoded data removed]"
          },
          "metadata": {
            "needs_background": "light"
          }
        }
      ]
    },
    {
      "cell_type": "code",
      "source": [
        "plt.plot(history_2.history['loss'], label = 'Training loss')\n",
        "plt.plot(history_2.history['val_loss'], label = 'Validation loss')\n",
        "plt.title('Loss of the model')\n",
        "plt.xlabel('Epoch')\n",
        "plt.ylabel('Loss')\n",
        "plt.legend()\n",
        "plt.show()"
      ],
      "metadata": {
        "id": "QXK3e9H-AUbp",
        "colab": {
          "base_uri": "https://localhost:8080/",
          "height": 54
        },
        "outputId": "75313d9b-aba4-4e74-f761-785289ce0f39"
      },
      "execution_count": null,
      "outputs": [
        {
          "output_type": "display_data",
          "data": {
            "text/plain": [
              "<Figure size 432x288 with 1 Axes>"
            ],
            "image/png": "[encoded data removed]"
          },
          "metadata": {
            "needs_background": "light"
          }
        }
      ]
    },
    {
      "cell_type": "code",
      "source": [
        "plt.plot(history_2.history['recall_1'], label = 'Training recall')\n",
        "plt.plot(history_2.history['val_recall_1'], label = 'Validation recall')\n",
        "plt.plot(history_2.history['precision_1'], label = 'Training precision')\n",
        "plt.plot(history_2.history['val_precision_1'], label = 'Validation precision')\n",
        "plt.axis([0, 9, 0, 1])\n",
        "plt.title('Precision vs Recall of the model')\n",
        "plt.xlabel('Epoch')\n",
        "plt.legend()\n",
        "plt.show()"
      ],
      "metadata": {
        "id": "Y04YthHPAbks",
        "colab": {
          "base_uri": "https://localhost:8080/",
          "height": 295
        },
        "outputId": "5ed23f62-3ea7-4783-8030-d453551c496d"
      },
      "execution_count": null,
      "outputs": [
        {
          "output_type": "display_data",
          "data": {
            "text/plain": [
              "<Figure size 432x288 with 1 Axes>"
            ],
            "image/png": "[encoded data removed]"
          },
          "metadata": {
            "needs_background": "light"
          }
        }
      ]
    },
    {
      "cell_type": "markdown",
      "source": [
        "#Predictions:"
      ],
      "metadata": {
        "id": "zakj53UNDo3y"
      }
    },
    {
      "cell_type": "code",
      "source": [
        "pred_1 = model.predict(test_X_ws)\n",
        "pred_1 = np.round(pred_1).astype(int).reshape(3263)\n",
        "sub_1 = pd.DataFrame({'id': sub_df['id'].values.tolist(),'target':pred_1})\n",
        "sub_1.to_csv('submission_1.csv',index=False)"
      ],
      "metadata": {
        "id": "k-vHsxADDsKG"
      },
      "execution_count": null,
      "outputs": []
    },
    {
      "cell_type": "code",
      "source": [
        "pred_2 = model_2.predict(test_X)\n",
        "pred_2 = np.round(pred_2).astype(int).reshape(3263)\n",
        "sub_2 = pd.DataFrame({'id': sub_df['id'].values.tolist(),'target':pred_2})\n",
        "sub_2.to_csv('submission_2.csv',index=False)"
      ],
      "metadata": {
        "id": "Dmbo6E15Ehsn"
      },
      "execution_count": null,
      "outputs": []
    }
  ],
  "metadata": {
    "accelerator": "GPU",
    "colab": {
      "name": "WewerthonCardoso_Implementacao.ipynb",
      "provenance": [],
      "collapsed_sections": [],
      "mount_file_id": "1kldyWomfqc9dBDriOcfhVrzo4njv2uXX",
      "authorship_tag": "ABX9TyNdURIGMhyoVKfXwv6B2sAt",
      "include_colab_link": true
    },
    "gpuClass": "standard",
    "kernelspec": {
      "display_name": "Python 3",
      "name": "python3"
    },
    "language_info": {
      "name": "python"
    }
  },
  "nbformat": 4,
  "nbformat_minor": 0
}