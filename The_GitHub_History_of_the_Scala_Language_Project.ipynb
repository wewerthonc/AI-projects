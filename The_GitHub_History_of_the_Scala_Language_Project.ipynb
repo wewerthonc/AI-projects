{
  "nbformat": 4,
  "nbformat_minor": 0,
  "metadata": {
    "colab": {
      "provenance": [],
      "authorship_tag": "ABX9TyNNPRnwa2Mp+CM/iOm1nsSI",
      "include_colab_link": true
    },
    "kernelspec": {
      "name": "python3",
      "display_name": "Python 3"
    },
    "language_info": {
      "name": "python"
    }
  },
  "cells": [
    {
      "cell_type": "markdown",
      "metadata": {
        "id": "view-in-github",
        "colab_type": "text"
      },
      "source": [
        "<a href=\"https://colab.research.google.com/github/wewerthonc/AI-projects/blob/main/The_GitHub_History_of_the_Scala_Language_Project.ipynb\" target=\"_parent\"><img src=\"https://colab.research.google.com/assets/colab-badge.svg\" alt=\"Open In Colab\"/></a>"
      ]
    },
    {
      "cell_type": "code",
      "execution_count": null,
      "metadata": {
        "id": "Gk3GJj-8rJF3"
      },
      "outputs": [],
      "source": [
        "from google.colab import drive\n",
        "import pandas as pd\n",
        "\n",
        "drive.mount('/content/MyDrive')\n",
        "PATH_BASE = '/content/MyDrive/MyDrive/Datasets/'"
      ]
    },
    {
      "cell_type": "code",
      "source": [
        "# Loading in the data\n",
        "pulls_one = pd.read_csv(PATH_BASE + 'pulls_2011-2013.csv')\n",
        "pulls_two = pd.read_csv(PATH_BASE + 'pulls_2014-2018.csv')\n",
        "pull_files = pd.read_csv(PATH_BASE + 'pull_files.csv')"
      ],
      "metadata": {
        "id": "P8VoeigzsjJy"
      },
      "execution_count": 5,
      "outputs": []
    },
    {
      "cell_type": "code",
      "source": [
        "pulls = pd.concat([pulls_one, pulls_two], verify_integrity = True, ignore_index = True)\n",
        "pulls['date'] = pd.to_datetime(pulls['date'], utc = True)\n",
        "\n",
        "# Merging the two DataFrames\n",
        "data = pd.merge(pulls, pull_files, on = 'pid')"
      ],
      "metadata": {
        "id": "qxsXd2OIrQbf"
      },
      "execution_count": 7,
      "outputs": []
    },
    {
      "cell_type": "code",
      "source": [
        "data['month'] = data['date'].apply(lambda value: value.month)\n",
        "\n",
        "data['year'] = data['date'].apply(lambda value: value.year)\n",
        "\n",
        "# Grouping by the month and year and counting the pull requests\n",
        "counts = data.groupby(['month', 'year']).count()\n",
        "\n",
        "counts['pid'].plot(kind='bar', figsize = (12,4))"
      ],
      "metadata": {
        "colab": {
          "base_uri": "https://localhost:8080/",
          "height": 338
        },
        "id": "3f5N88NxswA1",
        "outputId": "264d3f85-7bec-4f03-f19b-bf71c77acbc6"
      },
      "execution_count": 8,
      "outputs": [
        {
          "output_type": "execute_result",
          "data": {
            "text/plain": [
              "<matplotlib.axes._subplots.AxesSubplot at 0x7f108865cc10>"
            ]
          },
          "metadata": {},
          "execution_count": 8
        },
        {
          "output_type": "display_data",
          "data": {
            "text/plain": [
              "<Figure size 864x288 with 1 Axes>"
            ],
            "image/png": "[encoded data removed]"
          },
          "metadata": {
            "needs_background": "light"
          }
        }
      ]
    },
    {
      "cell_type": "code",
      "source": [
        "# Grouping by the submitter\n",
        "by_user = data.groupby('user')['pid'].count()\n",
        "\n",
        "#The number of pull requests submitted by each user\n",
        "by_user.hist()"
      ],
      "metadata": {
        "colab": {
          "base_uri": "https://localhost:8080/",
          "height": 282
        },
        "id": "L2SuLTgdtBmL",
        "outputId": "97b4d65c-7c62-4d76-b591-cc93d130b22b"
      },
      "execution_count": 10,
      "outputs": [
        {
          "output_type": "execute_result",
          "data": {
            "text/plain": [
              "<matplotlib.axes._subplots.AxesSubplot at 0x7f1087c83ee0>"
            ]
          },
          "metadata": {},
          "execution_count": 10
        },
        {
          "output_type": "display_data",
          "data": {
            "text/plain": [
              "<Figure size 432x288 with 1 Axes>"
            ],
            "image/png": "[encoded data removed]"
          },
          "metadata": {
            "needs_background": "light"
          }
        }
      ]
    },
    {
      "cell_type": "code",
      "source": [
        "# Identifying the last 10 pull requests\n",
        "last_10 = pulls.sort_values(['date']).tail(10)\n",
        "\n",
        "# Joining the two data sets\n",
        "joined_pr = pd.merge(last_10, pull_files, on = 'pid')\n",
        "\n",
        "# Identifying the unique files\n",
        "files = joined_pr['file'].unique()\n",
        "\n",
        "# Print the results\n",
        "print(files)"
      ],
      "metadata": {
        "id": "8FDP6G3QtaZ2"
      },
      "execution_count": null,
      "outputs": []
    },
    {
      "cell_type": "code",
      "source": [
        "# The most pull requests to a given a file:\n",
        "file = 'src/compiler/scala/reflect/reify/phases/Calculate.scala'\n",
        "\n",
        "# Identifying the commits that changed the file\n",
        "file_pr = data[data['file'] == file]\n",
        "\n",
        "# Counting the number of changes made by each developer\n",
        "author_counts = file_pr.groupby('user')['pid'].count().sort_values(ascending = False)\n",
        "\n",
        "# The top 3 developers\n",
        "print(author_counts[:3])"
      ],
      "metadata": {
        "colab": {
          "base_uri": "https://localhost:8080/"
        },
        "id": "xIL4juuXuc41",
        "outputId": "1937f39b-fc0e-4d89-e97e-49f22cc66838"
      },
      "execution_count": 17,
      "outputs": [
        {
          "output_type": "stream",
          "name": "stdout",
          "text": [
            "user\n",
            "xeno-by     11\n",
            "retronym     5\n",
            "soc          4\n",
            "Name: pid, dtype: int64\n"
          ]
        }
      ]
    },
    {
      "cell_type": "code",
      "source": [
        "#Who made The last ten pull requets to a given file\n",
        "file = 'src/compiler/scala/reflect/reify/phases/Calculate.scala'\n",
        "\n",
        "# the pull requests that changed the target file\n",
        "file_pr = pull_files[pull_files['file'] == file]\n",
        "\n",
        "# Merging the obtained results with the pulls DataFrame\n",
        "joined_pr = pulls.merge(file_pr, on = 'pid')\n",
        "\n",
        "# Find the users of the last 10 most recent pull requests\n",
        "users_last_10 = set(joined_pr.nlargest(10, 'date')['user'])\n",
        "\n",
        "# Printing the results\n",
        "print(users_last_10)"
      ],
      "metadata": {
        "colab": {
          "base_uri": "https://localhost:8080/"
        },
        "id": "Jha7t_cXvYQE",
        "outputId": "e2c145b9-ac65-4044-a9a8-baa4f7ed7f7c"
      },
      "execution_count": 18,
      "outputs": [
        {
          "output_type": "execute_result",
          "data": {
            "text/plain": [
              "{'bjornregnell', 'retronym', 'soc', 'starblood', 'xeno-by', 'zuvizudar'}"
            ]
          },
          "metadata": {},
          "execution_count": 18
        }
      ]
    },
    {
      "cell_type": "code",
      "source": [
        "# The pull requests of a given developer\n",
        "authors = ['xeno-by', 'soc']\n",
        "\n",
        "# All the developers' pull requests\n",
        "by_author = pulls[pulls['user'].isin(authors)]\n",
        "\n",
        "# Counting the number of pull requests submitted each year\n",
        "counts = by_author.groupby([by_author['user'], pulls['date'].dt.year]).agg({'pid': 'count'}).reset_index()\n",
        "\n",
        "# Converting the table to a wide format\n",
        "counts_wide = counts.pivot_table(index = 'date', columns='user', values='pid', fill_value=0)\n",
        "\n",
        "counts_wide.plot(kind = 'bar')"
      ],
      "metadata": {
        "colab": {
          "base_uri": "https://localhost:8080/",
          "height": 312
        },
        "id": "ds5CeurRwEyj",
        "outputId": "ccf23c48-1193-48ae-a8cb-de59a4dd8600"
      },
      "execution_count": 20,
      "outputs": [
        {
          "output_type": "execute_result",
          "data": {
            "text/plain": [
              "<matplotlib.axes._subplots.AxesSubplot at 0x7f1087af9a30>"
            ]
          },
          "metadata": {},
          "execution_count": 20
        },
        {
          "output_type": "display_data",
          "data": {
            "text/plain": [
              "<Figure size 432x288 with 1 Axes>"
            ],
            "image/png": "[encoded data removed]"
          },
          "metadata": {
            "needs_background": "light"
          }
        }
      ]
    },
    {
      "cell_type": "code",
      "source": [
        "#Visualizing the contributions of each developer\n",
        "\n",
        "authors = ['xeno-by', 'soc']\n",
        "file = 'src/compiler/scala/reflect/reify/phases/Calculate.scala'\n",
        "\n",
        "# The pull requests submitted by the authors\n",
        "by_author = data[data['user'].isin(authors)]\n",
        "\n",
        "# The pull requests that affect the file\n",
        "by_file = by_author[by_author['file'] == file]\n",
        "\n",
        "# Grouping and counting the number of PRs done by each user each year\n",
        "grouped = by_file.groupby(['user', by_file['date'].dt.year]).count()['pid'].reset_index()\n",
        "\n",
        "# Transforming the data into a wide format\n",
        "by_file_wide = grouped.pivot_table(index = 'date', columns = 'user', values = 'pid', fill_value = 0)\n",
        "\n",
        "by_file_wide.plot(kind='bar')"
      ],
      "metadata": {
        "colab": {
          "base_uri": "https://localhost:8080/",
          "height": 312
        },
        "id": "iU7VW_mewhD2",
        "outputId": "3794fb58-e088-4aa8-a902-2f92e778dddf"
      },
      "execution_count": 21,
      "outputs": [
        {
          "output_type": "execute_result",
          "data": {
            "text/plain": [
              "<matplotlib.axes._subplots.AxesSubplot at 0x7f1087a6aca0>"
            ]
          },
          "metadata": {},
          "execution_count": 21
        },
        {
          "output_type": "display_data",
          "data": {
            "text/plain": [
              "<Figure size 432x288 with 1 Axes>"
            ],
            "image/png": "[encoded data removed]"
          },
          "metadata": {
            "needs_background": "light"
          }
        }
      ]
    }
  ]
}